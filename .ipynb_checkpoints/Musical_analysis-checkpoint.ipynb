{
 "cells": [
  {
   "cell_type": "code",
   "execution_count": 92,
   "id": "832638ee",
   "metadata": {},
   "outputs": [],
   "source": [
    "import pandas as pd\n",
    "pd.__version__\n",
    "\n",
    "import seaborn as sns\n",
    "import matplotlib\n",
    "from matplotlib import pyplot as plt"
   ]
  },
  {
   "cell_type": "code",
   "execution_count": 93,
   "id": "70fe4868",
   "metadata": {},
   "outputs": [],
   "source": [
    "spotify2010 = pd.read_csv(\"spotifysongscsvs/2010.csv\", index_col = 'Unnamed: 0')\n",
    "spotify2011 = pd.read_csv(\"spotifysongscsvs/2011.csv\", index_col = 'Unnamed: 0')\n",
    "spotify2012 = pd.read_csv(\"spotifysongscsvs/2012.csv\", index_col = 'Unnamed: 0')\n",
    "spotify2013 = pd.read_csv(\"spotifysongscsvs/2013.csv\", index_col = 'Unnamed: 0')\n",
    "spotify2014 = pd.read_csv(\"spotifysongscsvs/2014.csv\", index_col = 'Unnamed: 0')\n",
    "spotify2015 = pd.read_csv(\"spotifysongscsvs/2015.csv\", index_col = 'Unnamed: 0')\n",
    "spotify2016 = pd.read_csv(\"spotifysongscsvs/2016.csv\", index_col = 'Unnamed: 0')\n",
    "spotify2017 = pd.read_csv(\"spotifysongscsvs/2017.csv\", index_col = 'Unnamed: 0')\n",
    "spotify2018 = pd.read_csv(\"spotifysongscsvs/2018.csv\", index_col = 'Unnamed: 0')\n",
    "spotify2019 = pd.read_csv(\"spotifysongscsvs/2019.csv\", index_col = 'Unnamed: 0')\n",
    "\n"
   ]
  },
  {
   "cell_type": "code",
   "execution_count": 94,
   "id": "d71049b6",
   "metadata": {},
   "outputs": [],
   "source": [
    "#https://www.datacamp.com/tutorial/joining-dataframes-pandas\n",
    "all_top_songs = pd.concat([spotify2010, spotify2011, spotify2012, spotify2013, spotify2014, spotify2015, spotify2016, spotify2017, spotify2018, spotify2019])\n"
   ]
  },
  {
   "cell_type": "code",
   "execution_count": 95,
   "id": "b650c7ca",
   "metadata": {},
   "outputs": [],
   "source": [
    "#https://www.geeksforgeeks.org/how-to-rename-columns-in-pandas-dataframe/\n",
    "#https://stackoverflow.com/questions/18022845/pandas-index-column-title-or-name\n",
    "all_top_songs.index.name = 'id'"
   ]
  },
  {
   "cell_type": "code",
   "execution_count": 96,
   "id": "b1f5361d",
   "metadata": {},
   "outputs": [
    {
     "data": {
      "text/plain": [
       "(603, 14)"
      ]
     },
     "execution_count": 96,
     "metadata": {},
     "output_type": "execute_result"
    }
   ],
   "source": [
    "all_top_songs.shape"
   ]
  },
  {
   "cell_type": "code",
   "execution_count": 97,
   "id": "aaf27e47",
   "metadata": {
    "scrolled": false
   },
   "outputs": [
    {
     "data": {
      "text/html": [
       "<div>\n",
       "<style scoped>\n",
       "    .dataframe tbody tr th:only-of-type {\n",
       "        vertical-align: middle;\n",
       "    }\n",
       "\n",
       "    .dataframe tbody tr th {\n",
       "        vertical-align: top;\n",
       "    }\n",
       "\n",
       "    .dataframe thead th {\n",
       "        text-align: right;\n",
       "    }\n",
       "</style>\n",
       "<table border=\"1\" class=\"dataframe\">\n",
       "  <thead>\n",
       "    <tr style=\"text-align: right;\">\n",
       "      <th></th>\n",
       "      <th>title</th>\n",
       "      <th>artist</th>\n",
       "      <th>top genre</th>\n",
       "      <th>year</th>\n",
       "      <th>bpm</th>\n",
       "      <th>nrgy</th>\n",
       "      <th>dnce</th>\n",
       "      <th>dB</th>\n",
       "      <th>live</th>\n",
       "      <th>val</th>\n",
       "      <th>dur</th>\n",
       "      <th>acous</th>\n",
       "      <th>spch</th>\n",
       "      <th>pop</th>\n",
       "    </tr>\n",
       "    <tr>\n",
       "      <th>id</th>\n",
       "      <th></th>\n",
       "      <th></th>\n",
       "      <th></th>\n",
       "      <th></th>\n",
       "      <th></th>\n",
       "      <th></th>\n",
       "      <th></th>\n",
       "      <th></th>\n",
       "      <th></th>\n",
       "      <th></th>\n",
       "      <th></th>\n",
       "      <th></th>\n",
       "      <th></th>\n",
       "      <th></th>\n",
       "    </tr>\n",
       "  </thead>\n",
       "  <tbody>\n",
       "    <tr>\n",
       "      <th>1</th>\n",
       "      <td>Hey, Soul Sister</td>\n",
       "      <td>Train</td>\n",
       "      <td>neo mellow</td>\n",
       "      <td>2010</td>\n",
       "      <td>97</td>\n",
       "      <td>89</td>\n",
       "      <td>67</td>\n",
       "      <td>-4</td>\n",
       "      <td>8</td>\n",
       "      <td>80</td>\n",
       "      <td>217</td>\n",
       "      <td>19</td>\n",
       "      <td>4</td>\n",
       "      <td>83</td>\n",
       "    </tr>\n",
       "    <tr>\n",
       "      <th>2</th>\n",
       "      <td>Love The Way You Lie</td>\n",
       "      <td>Eminem</td>\n",
       "      <td>detroit hip hop</td>\n",
       "      <td>2010</td>\n",
       "      <td>87</td>\n",
       "      <td>93</td>\n",
       "      <td>75</td>\n",
       "      <td>-5</td>\n",
       "      <td>52</td>\n",
       "      <td>64</td>\n",
       "      <td>263</td>\n",
       "      <td>24</td>\n",
       "      <td>23</td>\n",
       "      <td>82</td>\n",
       "    </tr>\n",
       "    <tr>\n",
       "      <th>3</th>\n",
       "      <td>TiK ToK</td>\n",
       "      <td>Kesha</td>\n",
       "      <td>dance pop</td>\n",
       "      <td>2010</td>\n",
       "      <td>120</td>\n",
       "      <td>84</td>\n",
       "      <td>76</td>\n",
       "      <td>-3</td>\n",
       "      <td>29</td>\n",
       "      <td>71</td>\n",
       "      <td>200</td>\n",
       "      <td>10</td>\n",
       "      <td>14</td>\n",
       "      <td>80</td>\n",
       "    </tr>\n",
       "    <tr>\n",
       "      <th>4</th>\n",
       "      <td>Bad Romance</td>\n",
       "      <td>Lady Gaga</td>\n",
       "      <td>dance pop</td>\n",
       "      <td>2010</td>\n",
       "      <td>119</td>\n",
       "      <td>92</td>\n",
       "      <td>70</td>\n",
       "      <td>-4</td>\n",
       "      <td>8</td>\n",
       "      <td>71</td>\n",
       "      <td>295</td>\n",
       "      <td>0</td>\n",
       "      <td>4</td>\n",
       "      <td>79</td>\n",
       "    </tr>\n",
       "    <tr>\n",
       "      <th>5</th>\n",
       "      <td>Just the Way You Are</td>\n",
       "      <td>Bruno Mars</td>\n",
       "      <td>pop</td>\n",
       "      <td>2010</td>\n",
       "      <td>109</td>\n",
       "      <td>84</td>\n",
       "      <td>64</td>\n",
       "      <td>-5</td>\n",
       "      <td>9</td>\n",
       "      <td>43</td>\n",
       "      <td>221</td>\n",
       "      <td>2</td>\n",
       "      <td>4</td>\n",
       "      <td>78</td>\n",
       "    </tr>\n",
       "  </tbody>\n",
       "</table>\n",
       "</div>"
      ],
      "text/plain": [
       "                   title      artist        top genre  year  bpm  nrgy  dnce  \\\n",
       "id                                                                             \n",
       "1       Hey, Soul Sister       Train       neo mellow  2010   97    89    67   \n",
       "2   Love The Way You Lie      Eminem  detroit hip hop  2010   87    93    75   \n",
       "3                TiK ToK       Kesha        dance pop  2010  120    84    76   \n",
       "4            Bad Romance   Lady Gaga        dance pop  2010  119    92    70   \n",
       "5   Just the Way You Are  Bruno Mars              pop  2010  109    84    64   \n",
       "\n",
       "    dB  live  val  dur  acous  spch  pop  \n",
       "id                                        \n",
       "1   -4     8   80  217     19     4   83  \n",
       "2   -5    52   64  263     24    23   82  \n",
       "3   -3    29   71  200     10    14   80  \n",
       "4   -4     8   71  295      0     4   79  \n",
       "5   -5     9   43  221      2     4   78  "
      ]
     },
     "execution_count": 97,
     "metadata": {},
     "output_type": "execute_result"
    }
   ],
   "source": [
    "all_top_songs.head()"
   ]
  },
  {
   "cell_type": "code",
   "execution_count": 98,
   "id": "8ba29775",
   "metadata": {
    "scrolled": false
   },
   "outputs": [
    {
     "name": "stdout",
     "output_type": "stream",
     "text": [
      "<class 'pandas.core.frame.DataFrame'>\n",
      "Int64Index: 603 entries, 1 to 603\n",
      "Data columns (total 14 columns):\n",
      " #   Column     Non-Null Count  Dtype \n",
      "---  ------     --------------  ----- \n",
      " 0   title      603 non-null    object\n",
      " 1   artist     603 non-null    object\n",
      " 2   top genre  603 non-null    object\n",
      " 3   year       603 non-null    int64 \n",
      " 4   bpm        603 non-null    int64 \n",
      " 5   nrgy       603 non-null    int64 \n",
      " 6   dnce       603 non-null    int64 \n",
      " 7   dB         603 non-null    int64 \n",
      " 8   live       603 non-null    int64 \n",
      " 9   val        603 non-null    int64 \n",
      " 10  dur        603 non-null    int64 \n",
      " 11  acous      603 non-null    int64 \n",
      " 12  spch       603 non-null    int64 \n",
      " 13  pop        603 non-null    int64 \n",
      "dtypes: int64(11), object(3)\n",
      "memory usage: 70.7+ KB\n"
     ]
    }
   ],
   "source": [
    "all_top_songs.info()"
   ]
  },
  {
   "cell_type": "code",
   "execution_count": 99,
   "id": "4e01250b",
   "metadata": {},
   "outputs": [],
   "source": [
    "#Base data for sum of numerical values grouped by 'title'\n",
    "sum_by_title_all_years = all_top_songs.groupby(['artist', 'title']).sum()"
   ]
  },
  {
   "cell_type": "code",
   "execution_count": 100,
   "id": "142da567",
   "metadata": {},
   "outputs": [
    {
     "data": {
      "text/html": [
       "<div>\n",
       "<style scoped>\n",
       "    .dataframe tbody tr th:only-of-type {\n",
       "        vertical-align: middle;\n",
       "    }\n",
       "\n",
       "    .dataframe tbody tr th {\n",
       "        vertical-align: top;\n",
       "    }\n",
       "\n",
       "    .dataframe thead th {\n",
       "        text-align: right;\n",
       "    }\n",
       "</style>\n",
       "<table border=\"1\" class=\"dataframe\">\n",
       "  <thead>\n",
       "    <tr style=\"text-align: right;\">\n",
       "      <th></th>\n",
       "      <th></th>\n",
       "      <th>year</th>\n",
       "      <th>bpm</th>\n",
       "      <th>nrgy</th>\n",
       "      <th>dnce</th>\n",
       "      <th>dB</th>\n",
       "      <th>live</th>\n",
       "      <th>val</th>\n",
       "      <th>dur</th>\n",
       "      <th>acous</th>\n",
       "      <th>spch</th>\n",
       "      <th>pop</th>\n",
       "    </tr>\n",
       "    <tr>\n",
       "      <th>artist</th>\n",
       "      <th>title</th>\n",
       "      <th></th>\n",
       "      <th></th>\n",
       "      <th></th>\n",
       "      <th></th>\n",
       "      <th></th>\n",
       "      <th></th>\n",
       "      <th></th>\n",
       "      <th></th>\n",
       "      <th></th>\n",
       "      <th></th>\n",
       "      <th></th>\n",
       "    </tr>\n",
       "  </thead>\n",
       "  <tbody>\n",
       "    <tr>\n",
       "      <th>3OH!3</th>\n",
       "      <th>My First Kiss - feat. Ke$ha</th>\n",
       "      <td>2010</td>\n",
       "      <td>138</td>\n",
       "      <td>89</td>\n",
       "      <td>68</td>\n",
       "      <td>-4</td>\n",
       "      <td>36</td>\n",
       "      <td>83</td>\n",
       "      <td>192</td>\n",
       "      <td>1</td>\n",
       "      <td>8</td>\n",
       "      <td>62</td>\n",
       "    </tr>\n",
       "    <tr>\n",
       "      <th>5 Seconds of Summer</th>\n",
       "      <th>She Looks So Perfect</th>\n",
       "      <td>2014</td>\n",
       "      <td>160</td>\n",
       "      <td>95</td>\n",
       "      <td>49</td>\n",
       "      <td>-4</td>\n",
       "      <td>33</td>\n",
       "      <td>44</td>\n",
       "      <td>202</td>\n",
       "      <td>0</td>\n",
       "      <td>13</td>\n",
       "      <td>71</td>\n",
       "    </tr>\n",
       "    <tr>\n",
       "      <th>A Great Big World</th>\n",
       "      <th>Say Something</th>\n",
       "      <td>2014</td>\n",
       "      <td>138</td>\n",
       "      <td>15</td>\n",
       "      <td>45</td>\n",
       "      <td>-9</td>\n",
       "      <td>9</td>\n",
       "      <td>9</td>\n",
       "      <td>229</td>\n",
       "      <td>87</td>\n",
       "      <td>3</td>\n",
       "      <td>61</td>\n",
       "    </tr>\n",
       "    <tr>\n",
       "      <th rowspan=\"2\" valign=\"top\">Adam Lambert</th>\n",
       "      <th>If I Had You</th>\n",
       "      <td>2010</td>\n",
       "      <td>131</td>\n",
       "      <td>91</td>\n",
       "      <td>65</td>\n",
       "      <td>-4</td>\n",
       "      <td>37</td>\n",
       "      <td>79</td>\n",
       "      <td>228</td>\n",
       "      <td>1</td>\n",
       "      <td>11</td>\n",
       "      <td>59</td>\n",
       "    </tr>\n",
       "    <tr>\n",
       "      <th>Whataya Want from Me</th>\n",
       "      <td>2010</td>\n",
       "      <td>186</td>\n",
       "      <td>68</td>\n",
       "      <td>44</td>\n",
       "      <td>-5</td>\n",
       "      <td>6</td>\n",
       "      <td>45</td>\n",
       "      <td>227</td>\n",
       "      <td>1</td>\n",
       "      <td>5</td>\n",
       "      <td>66</td>\n",
       "    </tr>\n",
       "    <tr>\n",
       "      <th>...</th>\n",
       "      <th>...</th>\n",
       "      <td>...</td>\n",
       "      <td>...</td>\n",
       "      <td>...</td>\n",
       "      <td>...</td>\n",
       "      <td>...</td>\n",
       "      <td>...</td>\n",
       "      <td>...</td>\n",
       "      <td>...</td>\n",
       "      <td>...</td>\n",
       "      <td>...</td>\n",
       "      <td>...</td>\n",
       "    </tr>\n",
       "    <tr>\n",
       "      <th rowspan=\"2\" valign=\"top\">Zedd</th>\n",
       "      <th>Stay The Night - Featuring Hayley Williams Of Paramore</th>\n",
       "      <td>2014</td>\n",
       "      <td>128</td>\n",
       "      <td>74</td>\n",
       "      <td>60</td>\n",
       "      <td>-3</td>\n",
       "      <td>9</td>\n",
       "      <td>46</td>\n",
       "      <td>217</td>\n",
       "      <td>11</td>\n",
       "      <td>4</td>\n",
       "      <td>64</td>\n",
       "    </tr>\n",
       "    <tr>\n",
       "      <th>True Colors</th>\n",
       "      <td>2016</td>\n",
       "      <td>126</td>\n",
       "      <td>79</td>\n",
       "      <td>57</td>\n",
       "      <td>-3</td>\n",
       "      <td>10</td>\n",
       "      <td>49</td>\n",
       "      <td>225</td>\n",
       "      <td>40</td>\n",
       "      <td>4</td>\n",
       "      <td>51</td>\n",
       "    </tr>\n",
       "    <tr>\n",
       "      <th rowspan=\"2\" valign=\"top\">fun.</th>\n",
       "      <th>Some Nights</th>\n",
       "      <td>2012</td>\n",
       "      <td>108</td>\n",
       "      <td>74</td>\n",
       "      <td>67</td>\n",
       "      <td>-7</td>\n",
       "      <td>9</td>\n",
       "      <td>39</td>\n",
       "      <td>277</td>\n",
       "      <td>2</td>\n",
       "      <td>5</td>\n",
       "      <td>72</td>\n",
       "    </tr>\n",
       "    <tr>\n",
       "      <th>We Are Young (feat. Janelle Monáe)</th>\n",
       "      <td>2012</td>\n",
       "      <td>184</td>\n",
       "      <td>64</td>\n",
       "      <td>38</td>\n",
       "      <td>-6</td>\n",
       "      <td>8</td>\n",
       "      <td>74</td>\n",
       "      <td>251</td>\n",
       "      <td>2</td>\n",
       "      <td>8</td>\n",
       "      <td>63</td>\n",
       "    </tr>\n",
       "    <tr>\n",
       "      <th>will.i.am</th>\n",
       "      <th>#thatPOWER</th>\n",
       "      <td>2013</td>\n",
       "      <td>128</td>\n",
       "      <td>61</td>\n",
       "      <td>80</td>\n",
       "      <td>-6</td>\n",
       "      <td>7</td>\n",
       "      <td>40</td>\n",
       "      <td>280</td>\n",
       "      <td>0</td>\n",
       "      <td>6</td>\n",
       "      <td>68</td>\n",
       "    </tr>\n",
       "  </tbody>\n",
       "</table>\n",
       "<p>587 rows × 11 columns</p>\n",
       "</div>"
      ],
      "text/plain": [
       "                                                                        year  \\\n",
       "artist              title                                                      \n",
       "3OH!3               My First Kiss - feat. Ke$ha                         2010   \n",
       "5 Seconds of Summer She Looks So Perfect                                2014   \n",
       "A Great Big World   Say Something                                       2014   \n",
       "Adam Lambert        If I Had You                                        2010   \n",
       "                    Whataya Want from Me                                2010   \n",
       "...                                                                      ...   \n",
       "Zedd                Stay The Night - Featuring Hayley Williams Of P...  2014   \n",
       "                    True Colors                                         2016   \n",
       "fun.                Some Nights                                         2012   \n",
       "                    We Are Young (feat. Janelle Monáe)                  2012   \n",
       "will.i.am           #thatPOWER                                          2013   \n",
       "\n",
       "                                                                        bpm  \\\n",
       "artist              title                                                     \n",
       "3OH!3               My First Kiss - feat. Ke$ha                         138   \n",
       "5 Seconds of Summer She Looks So Perfect                                160   \n",
       "A Great Big World   Say Something                                       138   \n",
       "Adam Lambert        If I Had You                                        131   \n",
       "                    Whataya Want from Me                                186   \n",
       "...                                                                     ...   \n",
       "Zedd                Stay The Night - Featuring Hayley Williams Of P...  128   \n",
       "                    True Colors                                         126   \n",
       "fun.                Some Nights                                         108   \n",
       "                    We Are Young (feat. Janelle Monáe)                  184   \n",
       "will.i.am           #thatPOWER                                          128   \n",
       "\n",
       "                                                                        nrgy  \\\n",
       "artist              title                                                      \n",
       "3OH!3               My First Kiss - feat. Ke$ha                           89   \n",
       "5 Seconds of Summer She Looks So Perfect                                  95   \n",
       "A Great Big World   Say Something                                         15   \n",
       "Adam Lambert        If I Had You                                          91   \n",
       "                    Whataya Want from Me                                  68   \n",
       "...                                                                      ...   \n",
       "Zedd                Stay The Night - Featuring Hayley Williams Of P...    74   \n",
       "                    True Colors                                           79   \n",
       "fun.                Some Nights                                           74   \n",
       "                    We Are Young (feat. Janelle Monáe)                    64   \n",
       "will.i.am           #thatPOWER                                            61   \n",
       "\n",
       "                                                                        dnce  \\\n",
       "artist              title                                                      \n",
       "3OH!3               My First Kiss - feat. Ke$ha                           68   \n",
       "5 Seconds of Summer She Looks So Perfect                                  49   \n",
       "A Great Big World   Say Something                                         45   \n",
       "Adam Lambert        If I Had You                                          65   \n",
       "                    Whataya Want from Me                                  44   \n",
       "...                                                                      ...   \n",
       "Zedd                Stay The Night - Featuring Hayley Williams Of P...    60   \n",
       "                    True Colors                                           57   \n",
       "fun.                Some Nights                                           67   \n",
       "                    We Are Young (feat. Janelle Monáe)                    38   \n",
       "will.i.am           #thatPOWER                                            80   \n",
       "\n",
       "                                                                        dB  \\\n",
       "artist              title                                                    \n",
       "3OH!3               My First Kiss - feat. Ke$ha                         -4   \n",
       "5 Seconds of Summer She Looks So Perfect                                -4   \n",
       "A Great Big World   Say Something                                       -9   \n",
       "Adam Lambert        If I Had You                                        -4   \n",
       "                    Whataya Want from Me                                -5   \n",
       "...                                                                     ..   \n",
       "Zedd                Stay The Night - Featuring Hayley Williams Of P...  -3   \n",
       "                    True Colors                                         -3   \n",
       "fun.                Some Nights                                         -7   \n",
       "                    We Are Young (feat. Janelle Monáe)                  -6   \n",
       "will.i.am           #thatPOWER                                          -6   \n",
       "\n",
       "                                                                        live  \\\n",
       "artist              title                                                      \n",
       "3OH!3               My First Kiss - feat. Ke$ha                           36   \n",
       "5 Seconds of Summer She Looks So Perfect                                  33   \n",
       "A Great Big World   Say Something                                          9   \n",
       "Adam Lambert        If I Had You                                          37   \n",
       "                    Whataya Want from Me                                   6   \n",
       "...                                                                      ...   \n",
       "Zedd                Stay The Night - Featuring Hayley Williams Of P...     9   \n",
       "                    True Colors                                           10   \n",
       "fun.                Some Nights                                            9   \n",
       "                    We Are Young (feat. Janelle Monáe)                     8   \n",
       "will.i.am           #thatPOWER                                             7   \n",
       "\n",
       "                                                                        val  \\\n",
       "artist              title                                                     \n",
       "3OH!3               My First Kiss - feat. Ke$ha                          83   \n",
       "5 Seconds of Summer She Looks So Perfect                                 44   \n",
       "A Great Big World   Say Something                                         9   \n",
       "Adam Lambert        If I Had You                                         79   \n",
       "                    Whataya Want from Me                                 45   \n",
       "...                                                                     ...   \n",
       "Zedd                Stay The Night - Featuring Hayley Williams Of P...   46   \n",
       "                    True Colors                                          49   \n",
       "fun.                Some Nights                                          39   \n",
       "                    We Are Young (feat. Janelle Monáe)                   74   \n",
       "will.i.am           #thatPOWER                                           40   \n",
       "\n",
       "                                                                        dur  \\\n",
       "artist              title                                                     \n",
       "3OH!3               My First Kiss - feat. Ke$ha                         192   \n",
       "5 Seconds of Summer She Looks So Perfect                                202   \n",
       "A Great Big World   Say Something                                       229   \n",
       "Adam Lambert        If I Had You                                        228   \n",
       "                    Whataya Want from Me                                227   \n",
       "...                                                                     ...   \n",
       "Zedd                Stay The Night - Featuring Hayley Williams Of P...  217   \n",
       "                    True Colors                                         225   \n",
       "fun.                Some Nights                                         277   \n",
       "                    We Are Young (feat. Janelle Monáe)                  251   \n",
       "will.i.am           #thatPOWER                                          280   \n",
       "\n",
       "                                                                        acous  \\\n",
       "artist              title                                                       \n",
       "3OH!3               My First Kiss - feat. Ke$ha                             1   \n",
       "5 Seconds of Summer She Looks So Perfect                                    0   \n",
       "A Great Big World   Say Something                                          87   \n",
       "Adam Lambert        If I Had You                                            1   \n",
       "                    Whataya Want from Me                                    1   \n",
       "...                                                                       ...   \n",
       "Zedd                Stay The Night - Featuring Hayley Williams Of P...     11   \n",
       "                    True Colors                                            40   \n",
       "fun.                Some Nights                                             2   \n",
       "                    We Are Young (feat. Janelle Monáe)                      2   \n",
       "will.i.am           #thatPOWER                                              0   \n",
       "\n",
       "                                                                        spch  \\\n",
       "artist              title                                                      \n",
       "3OH!3               My First Kiss - feat. Ke$ha                            8   \n",
       "5 Seconds of Summer She Looks So Perfect                                  13   \n",
       "A Great Big World   Say Something                                          3   \n",
       "Adam Lambert        If I Had You                                          11   \n",
       "                    Whataya Want from Me                                   5   \n",
       "...                                                                      ...   \n",
       "Zedd                Stay The Night - Featuring Hayley Williams Of P...     4   \n",
       "                    True Colors                                            4   \n",
       "fun.                Some Nights                                            5   \n",
       "                    We Are Young (feat. Janelle Monáe)                     8   \n",
       "will.i.am           #thatPOWER                                             6   \n",
       "\n",
       "                                                                        pop  \n",
       "artist              title                                                    \n",
       "3OH!3               My First Kiss - feat. Ke$ha                          62  \n",
       "5 Seconds of Summer She Looks So Perfect                                 71  \n",
       "A Great Big World   Say Something                                        61  \n",
       "Adam Lambert        If I Had You                                         59  \n",
       "                    Whataya Want from Me                                 66  \n",
       "...                                                                     ...  \n",
       "Zedd                Stay The Night - Featuring Hayley Williams Of P...   64  \n",
       "                    True Colors                                          51  \n",
       "fun.                Some Nights                                          72  \n",
       "                    We Are Young (feat. Janelle Monáe)                   63  \n",
       "will.i.am           #thatPOWER                                           68  \n",
       "\n",
       "[587 rows x 11 columns]"
      ]
     },
     "execution_count": 100,
     "metadata": {},
     "output_type": "execute_result"
    }
   ],
   "source": [
    "sum_by_title_all_years"
   ]
  },
  {
   "cell_type": "markdown",
   "id": "554f23af",
   "metadata": {},
   "source": [
    "## 1. What is the most popular song in the dataset?"
   ]
  },
  {
   "cell_type": "code",
   "execution_count": 101,
   "id": "58c88b76",
   "metadata": {
    "scrolled": false
   },
   "outputs": [
    {
     "name": "stdout",
     "output_type": "stream",
     "text": [
      "                                   max\n",
      "artist        title                   \n",
      "Maroon 5      Memories              99\n",
      "Selena Gomez  Lose You To Love Me   97\n",
      "Lewis Capaldi Someone You Loved     96\n",
      "Shawn Mendes  Señorita              95\n",
      "Sam Smith     How Do You Sleep?     93\n"
     ]
    }
   ],
   "source": [
    "#https://sparkbyexamples.com/pandas/pandas-groupby-multiple-columns/\n",
    "top_pop_list = all_top_songs.groupby(['artist', 'title'])['pop'].aggregate(['max'])\n",
    "print(top_pop_list.nlargest(n=5, columns='max'))\n"
   ]
  },
  {
   "cell_type": "markdown",
   "id": "eab74a30",
   "metadata": {},
   "source": [
    "### The most popular song in the dataset is 'Memories' by Maroon 5.\n",
    "* First, the all_top_songs list was grouped by 'title' & 'artist' and .aggregate was used to get the max 'pop' value for each song. The resulting dataset was then was organized by size of the 'max' value so that the songs with the highest total 'pop' values were given. This showed 'Memories' to have to highest total 'pop' value in the dataset with a 'pop' value of 99."
   ]
  },
  {
   "cell_type": "markdown",
   "id": "03b06b42",
   "metadata": {},
   "source": [
    "## 2. What artist has the most songs in the dataset?"
   ]
  },
  {
   "cell_type": "code",
   "execution_count": 102,
   "id": "bc99be1d",
   "metadata": {},
   "outputs": [
    {
     "data": {
      "text/plain": [
       "artist\n",
       "Katy Perry       17\n",
       "Rihanna          15\n",
       "Justin Bieber    14\n",
       "Lady Gaga        14\n",
       "Maroon 5         14\n",
       "dtype: int64"
      ]
     },
     "execution_count": 102,
     "metadata": {},
     "output_type": "execute_result"
    }
   ],
   "source": [
    "no_duplicate_songs = all_top_songs.drop_duplicates(subset=['title', 'artist'], keep='first')\n",
    "\n",
    "no_duplicate_songs[['artist', 'title']].groupby('artist').size().nlargest()"
   ]
  },
  {
   "cell_type": "markdown",
   "id": "827d390e",
   "metadata": {},
   "source": [
    "### Katy Perry has the most songs in the dataset.\n",
    "* First, any duplicate songs were removed so that no songs were counted twice. The resulting dataset was grouped by 'artist', had entries counted using '.size()', and organized to show the artists with the highest song count. This shows that Katy Perry has the most songs on the list with a total of 17 songs. "
   ]
  },
  {
   "cell_type": "markdown",
   "id": "825c3bea",
   "metadata": {},
   "source": [
    "## 3. What is the most popular genre of music in the dataset?"
   ]
  },
  {
   "cell_type": "code",
   "execution_count": 103,
   "id": "3ecdac5d",
   "metadata": {},
   "outputs": [
    {
     "name": "stdout",
     "output_type": "stream",
     "text": [
      "                pop\n",
      "top genre          \n",
      "dance pop     21047\n",
      "pop            4490\n",
      "canadian pop   2456\n",
      "boy band       1045\n",
      "electropop     1007\n"
     ]
    }
   ],
   "source": [
    "sum_by_genre_all_years = all_top_songs.groupby('top genre').sum()\n",
    "print(sum_by_genre_all_years[['pop']].nlargest(n=5, columns='pop'))"
   ]
  },
  {
   "cell_type": "markdown",
   "id": "f26d375e",
   "metadata": {},
   "source": [
    "### Dance Pop is the most popular genre of music.\n",
    "* First, the all_top_songs list was grouped by 'top genre' and the sum for the columns taken. Then, the resulting dataset was set to show the rows with the largest values in the 'pop' column. This showed dance pop to be the most popular with a 'pop' value of 21,047. "
   ]
  },
  {
   "cell_type": "markdown",
   "id": "7c7209c4",
   "metadata": {},
   "source": [
    "## 4. Are there any songs in the dataset more than once?"
   ]
  },
  {
   "cell_type": "code",
   "execution_count": 104,
   "id": "946d9fb4",
   "metadata": {},
   "outputs": [
    {
     "name": "stdout",
     "output_type": "stream",
     "text": [
      "            artist                                            title\n",
      "id                                                                 \n",
      "55      Bruno Mars                             Just the Way You Are\n",
      "65      Bruno Mars                                        Marry You\n",
      "94    Tinie Tempah         Written in the Stars (feat. Eric Turner)\n",
      "96            T.I.          Castle Walls (feat. Christina Aguilera)\n",
      "153   Taylor Swift          We Are Never Ever Getting Back Together\n",
      "240         Fergie  A Little Party Never Killed Nobody (All We Got)\n",
      "323       Maroon 5                                            Sugar\n",
      "364     The Weeknd                                        The Hills\n",
      "365  Justin Bieber                                    Love Yourself\n",
      "379   Shawn Mendes                                         Stitches\n",
      "397  Justin Bieber                                          Company\n",
      "404    Naughty Boy                            Runnin' (Lose It All)\n",
      "405   Alessia Cara                                             Here\n",
      "474          Adele                                        All I Ask\n",
      "549           Kygo                                       First Time\n",
      "558           DNCE                                Kissing Strangers\n",
      "\n",
      "16\n"
     ]
    }
   ],
   "source": [
    "#https://www.geeksforgeeks.org/find-duplicate-rows-in-a-dataframe-based-on-all-or-selected-columns/\n",
    "# Selecting duplicate rows based colulmn\n",
    "duplicates = all_top_songs[all_top_songs.duplicated(subset=['title', 'artist'], keep='first')]\n",
    " \n",
    "print(duplicates[['artist', 'title']])\n",
    "print('')\n",
    "print(len(duplicates))"
   ]
  },
  {
   "cell_type": "markdown",
   "id": "c9813e2d",
   "metadata": {},
   "source": [
    "### There are 16 songs in the dataset more than once.\n",
    "* First, all duplicate songs were set to a variable using '.duplicate()' with 'title' & 'artist' as the subsets. Then, the titles and the length of the 'duplicate' were printed. This shows that 16 songs are seen more than once in the dataset."
   ]
  },
  {
   "cell_type": "markdown",
   "id": "561198f7",
   "metadata": {},
   "source": [
    "## 5. Is there a relationship between popularity and danceability?"
   ]
  },
  {
   "cell_type": "code",
   "execution_count": 105,
   "id": "6cba8fd0",
   "metadata": {
    "scrolled": false
   },
   "outputs": [
    {
     "data": {
      "image/png": "[encoded data removed]",
      "text/plain": [
       "<Figure size 900x600 with 1 Axes>"
      ]
     },
     "metadata": {},
     "output_type": "display_data"
    }
   ],
   "source": [
    "#https://stackoverflow.com/questions/36420908/can-i-draw-a-regression-line-and-show-parameters-using-scatterplot-with-a-pandas\n",
    "#https://www.geeksforgeeks.org/pandas-scatter-plot-dataframe-plot-scatter/\n",
    "#https://www.statology.org/seaborn-figure-size/\n",
    "\n",
    "pop_dance_plot = sns.lmplot(x='dnce', y='pop', data=sum_by_title_all_years, fit_reg=True, height=6, aspect=1.5)\n",
    "plt.show(pop_dance_plot)\n"
   ]
  },
  {
   "cell_type": "code",
   "execution_count": 106,
   "id": "e5d8dd0d",
   "metadata": {},
   "outputs": [
    {
     "name": "stdout",
     "output_type": "stream",
     "text": [
      "0.43140946379569417\n"
     ]
    }
   ],
   "source": [
    "#https://datascienceparichay.com/article/get-correlation-between-columns-of-pandas-dataframe/\n",
    "\n",
    "# correlation between Col1 and Col2\n",
    "corr_dance_pop = sum_by_title_all_years['dnce'].corr(sum_by_title_all_years['pop'])\n",
    "print(corr_dance_pop)"
   ]
  },
  {
   "cell_type": "markdown",
   "id": "7567b762",
   "metadata": {},
   "source": [
    "### There is a moderate positive correlation between popularity and danceability. An increase in popularity can be seen as danceability increases. \n",
    "* A scatter plot with a regression line were used to show the relationship between popularity and danceability. This was done by plotting danceability VS popularity using 'lmplot' from the Seaborn library. The correlation value of 0.43, which shows a moderate positive relationship, was reached by using the Pandas corr() function. "
   ]
  },
  {
   "cell_type": "markdown",
   "id": "df2e2f15",
   "metadata": {},
   "source": [
    "## 6. Does having a higher bpm lead to having a higher energy score?"
   ]
  },
  {
   "cell_type": "code",
   "execution_count": 107,
   "id": "17b020ab",
   "metadata": {
    "scrolled": false
   },
   "outputs": [
    {
     "data": {
      "image/png": "[encoded data removed]",
      "text/plain": [
       "<Figure size 900x600 with 1 Axes>"
      ]
     },
     "metadata": {},
     "output_type": "display_data"
    }
   ],
   "source": [
    "#https://stackoverflow.com/questions/36420908/can-i-draw-a-regression-line-and-show-parameters-using-scatterplot-with-a-pandas\n",
    "#https://www.geeksforgeeks.org/pandas-scatter-plot-dataframe-plot-scatter/\n",
    "#https://www.statology.org/seaborn-figure-size/\n",
    "\n",
    "bpm_energy_plot = sns.lmplot(x='bpm', y='nrgy', data=sum_by_title_all_years, fit_reg=True, height=6, aspect=1.5) \n",
    "plt.show(bpm_energy_plot)\n"
   ]
  },
  {
   "cell_type": "code",
   "execution_count": 108,
   "id": "a0ff9dc8",
   "metadata": {},
   "outputs": [
    {
     "name": "stdout",
     "output_type": "stream",
     "text": [
      "0.39998546179113165\n"
     ]
    }
   ],
   "source": [
    "#https://datascienceparichay.com/article/get-correlation-between-columns-of-pandas-dataframe/\n",
    "\n",
    "# correlation between Col1 and Col2\n",
    "corr_dance_pop = sum_by_title_all_years['bpm'].corr(sum_by_title_all_years['nrgy'])\n",
    "print(corr_dance_pop)"
   ]
  },
  {
   "cell_type": "markdown",
   "id": "c004d0d7",
   "metadata": {},
   "source": [
    "### There is a moderate positive correlation between BPM and energy. An increase in energy can be seen as BPM increases. \n",
    "* A scatter plot with a regression line were used to show the relationship between BPM and energy. This was done by plotting BPM VS energy using 'lmplot' from the Seaborn library. The correlation value of 0.40, which shows a moderate positive relationship, was reached by using the Pandas corr() function."
   ]
  },
  {
   "cell_type": "markdown",
   "id": "8ef2bf06",
   "metadata": {},
   "source": [
    "## 7. Which genre has the highest energy score?"
   ]
  },
  {
   "cell_type": "code",
   "execution_count": 109,
   "id": "1a314dd1",
   "metadata": {},
   "outputs": [
    {
     "name": "stdout",
     "output_type": "stream",
     "text": [
      "                nrgy\n",
      "top genre           \n",
      "dance pop      23814\n",
      "pop             4098\n",
      "canadian pop    2316\n",
      "boy band        1204\n",
      "barbadian pop   1027\n"
     ]
    }
   ],
   "source": [
    "sum_by_genre_all_years = all_top_songs.groupby('top genre').sum()\n",
    "print(sum_by_genre_all_years[['nrgy']].nlargest(n=5, columns='nrgy'))"
   ]
  },
  {
   "cell_type": "markdown",
   "id": "bc0f5fbb",
   "metadata": {},
   "source": [
    "### \"Dance pop\" is the genre with the highest energy score.\n",
    "* The dataset was first grouped by 'top genre' and the individual columns summed. The resulting dataset was organized to show the rows with the largest values in the 'nrgy' column. From this, it can be seen that has the highest energy value (23,814)."
   ]
  }
 ],
 "metadata": {
  "kernelspec": {
   "display_name": "Python 3 (ipykernel)",
   "language": "python",
   "name": "python3"
  },
  "language_info": {
   "codemirror_mode": {
    "name": "ipython",
    "version": 3
   },
   "file_extension": ".py",
   "mimetype": "text/x-python",
   "name": "python",
   "nbconvert_exporter": "python",
   "pygments_lexer": "ipython3",
   "version": "3.9.13"
  }
 },
 "nbformat": 4,
 "nbformat_minor": 5
}
